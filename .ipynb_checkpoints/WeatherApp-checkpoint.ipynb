{
 "cells": [
  {
   "cell_type": "code",
   "execution_count": 1,
   "id": "7b7ffffe",
   "metadata": {},
   "outputs": [],
   "source": [
    "\n",
    "import tkinter as tk\n",
    "from tkinter import *"
   ]
  },
  {
   "cell_type": "code",
   "execution_count": 2,
   "id": "aefbc8d6",
   "metadata": {},
   "outputs": [],
   "source": [
    "from geopy.geocoders import Nominatim "
   ]
  },
  {
   "cell_type": "code",
   "execution_count": 3,
   "id": "4f994a93",
   "metadata": {},
   "outputs": [],
   "source": [
    "from tkinter import ttk,messagebox "
   ]
  },
  {
   "cell_type": "code",
   "execution_count": 4,
   "id": "4b8b7fdf",
   "metadata": {},
   "outputs": [],
   "source": [
    "from timezonefinder import TimezoneFinder"
   ]
  },
  {
   "cell_type": "code",
   "execution_count": 5,
   "id": "649c4d00",
   "metadata": {},
   "outputs": [],
   "source": [
    "from datetime import *"
   ]
  },
  {
   "cell_type": "code",
   "execution_count": 6,
   "id": "b824c280",
   "metadata": {},
   "outputs": [],
   "source": [
    "import requests"
   ]
  },
  {
   "cell_type": "code",
   "execution_count": 7,
   "id": "23421b9a",
   "metadata": {},
   "outputs": [],
   "source": [
    "import pytz"
   ]
  },
  {
   "cell_type": "code",
   "execution_count": 8,
   "id": "a1ba94d1",
   "metadata": {},
   "outputs": [],
   "source": [
    "from PIL import Image,ImageTk"
   ]
  },
  {
   "cell_type": "code",
   "execution_count": null,
   "id": "0a337ae2",
   "metadata": {},
   "outputs": [
    {
     "name": "stderr",
     "output_type": "stream",
     "text": [
      "Exception in Tkinter callback\n",
      "Traceback (most recent call last):\n",
      "  File \"/Library/Frameworks/Python.framework/Versions/3.10/lib/python3.10/tkinter/__init__.py\", line 1921, in __call__\n",
      "    return self.func(*args)\n",
      "  File \"/var/folders/v2/hcdc1np169dfg84n3tmq3rbr0000gn/T/ipykernel_77139/134580275.py\", line 11, in getWeather\n",
      "    location=geolocator.geocode(city)\n",
      "NameError: name 'geolocator' is not defined\n"
     ]
    }
   ],
   "source": [
    "root=tk.Tk()\n",
    "root.title(\"WeatherApp\")\n",
    "root.geometry(\"890x470+300+200\")\n",
    "root.configure(bg=\"#57adff\")\n",
    "root.resizable(False,False)\n",
    "\n",
    "def getWeather():\n",
    "    city=textfield.get()\n",
    "    \n",
    "    geolocator= Nominatim(user_agent=\"geoapiExercises\")\n",
    "    location=geolocator.geocode(city)\n",
    "    obj = TimezoneFinder()\n",
    "    \n",
    "    result = obj.timezone_at(lng=location.longitude,lat=location.latitude)\n",
    "    \n",
    "    timezone.config(text=result)\n",
    "    \n",
    "\n",
    "## Icons Import\n",
    "image_icon = PhotoImage(file=\"Images/logo.png\")\n",
    "root.iconphoto(False,image_icon)\n",
    "\n",
    "\n",
    "\n",
    "Round_box = PhotoImage(file=\"Images/Rounded Rectangle 1.png\")\n",
    "Label(root,image=Round_box,bg=\"#57adff\").place(x=30,y=110)\n",
    "\n",
    "#label\n",
    "label1=Label(root,text=\"Temprature\",font=('Helvetica',11),fg=\"white\",bg=\"#203243\")\n",
    "label1.place(x=50,y=120)\n",
    "\n",
    "label2=Label(root,text=\"Humidity\",font=('Helvetica',11),fg=\"white\",bg=\"#203243\")\n",
    "label2.place(x=50,y=140)\n",
    "\n",
    "label3=Label(root,text=\"Pressure\",font=('Helvetica',11),fg=\"white\",bg=\"#203243\")\n",
    "label3.place(x=50,y=160)\n",
    "\n",
    "label4=Label(root,text=\"Wind Speed\",font=('Helvetica',11),fg=\"white\",bg=\"#203243\")\n",
    "label4.place(x=50,y=180)\n",
    "\n",
    "label5=Label(root,text=\"Description\",font=('Helvetica',11),fg=\"white\",bg=\"#203243\")\n",
    "label5.place(x=50,y=200)\n",
    "\n",
    "##search Box\n",
    "Search_image=PhotoImage(file=\"Images/Rounded Rectangle 3.png\")\n",
    "myimage=Label(image=Search_image,bg=\"#57adff\")\n",
    "myimage.place(x=270,y=120)\n",
    "\n",
    "weat_image=PhotoImage(file=\"Images/Layer 7.png\")\n",
    "weatherimage=Label(root,image=weat_image,bg=\"#203243\")\n",
    "weatherimage.place(x=290,y=127)\n",
    "\n",
    "textfield=tk.Entry(root,justify='center',width=15,font=('poopins',25,'bold'),bg=\"#203243\",border =0,fg=\"white\")\n",
    "textfield.place(x=370,y=130)\n",
    "textfield.focus()\n",
    "\n",
    "Search_icon=PhotoImage(file=\"Images/Layer 6.png\")\n",
    "myimage_icon=Button(image=Search_icon,borderwidth=0,cursor=\"hand2\",bg=\"#203243\",command=getWeather)\n",
    "myimage_icon.place(x=645,y=125)\n",
    "\n",
    "#Bottom Box\n",
    "frame=Frame(root,width=900,height=180,bg=\"#212120\")\n",
    "frame.pack(side=BOTTOM)\n",
    "\n",
    "#bottom boxes\n",
    "firstbox=PhotoImage(file=\"Images/Rounded Rectangle 2.png\")\n",
    "secondbox=PhotoImage(file=\"Images/Rounded Rectangle 2 copy.png\")\n",
    "\n",
    "Label(frame,image=firstbox,bg=\"#212120\").place(x=30,y=20)\n",
    "Label(frame,image=secondbox,bg=\"#212120\").place(x=300,y=30)\n",
    "Label(frame,image=secondbox,bg=\"#212120\").place(x=400,y=30)\n",
    "Label(frame,image=secondbox,bg=\"#212120\").place(x=500,y=30)\n",
    "Label(frame,image=secondbox,bg=\"#212120\").place(x=600,y=30)\n",
    "Label(frame,image=secondbox,bg=\"#212120\").place(x=700,y=30)\n",
    "Label(frame,image=secondbox,bg=\"#212120\").place(x=800,y=30)\n",
    "\n",
    "\n",
    "###clock [Time will displayed here]\n",
    "clock=Label(root, font=(\"Helvetica\" ,30, 'bold'),fg=\"white\",bg=\"#57adff\") \n",
    "clock.place(x=30,y=20)\n",
    "\n",
    "\n",
    "\n",
    "### timezone\n",
    "#timezone\n",
    "timezone=Label(root, font=(\"Helvetica\" ,20), fg=\"white\",bg=\"#57adff\") \n",
    "timezone.place(x=700, y=20)\n",
    "\n",
    "long_lat=Label(root, font=(\"Helvetica\", 10), fg=\"white\", bg=\"#57adff\") \n",
    "long_lat.place(x=700, y=20)\n",
    "\n",
    "\n",
    "root.mainloop()"
   ]
  },
  {
   "cell_type": "raw",
   "id": "9eb8216d",
   "metadata": {},
   "source": []
  }
 ],
 "metadata": {
  "kernelspec": {
   "display_name": "Python 3 (ipykernel)",
   "language": "python",
   "name": "python3"
  },
  "language_info": {
   "codemirror_mode": {
    "name": "ipython",
    "version": 3
   },
   "file_extension": ".py",
   "mimetype": "text/x-python",
   "name": "python",
   "nbconvert_exporter": "python",
   "pygments_lexer": "ipython3",
   "version": "3.10.9"
  }
 },
 "nbformat": 4,
 "nbformat_minor": 5
}
