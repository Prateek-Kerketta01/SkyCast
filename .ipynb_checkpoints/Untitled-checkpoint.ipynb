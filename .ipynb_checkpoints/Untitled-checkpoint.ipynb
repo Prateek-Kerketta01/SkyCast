{
 "cells": [
  {
   "cell_type": "code",
   "execution_count": 1,
   "id": "7fe3e7e5",
   "metadata": {},
   "outputs": [],
   "source": [
    "\n",
    "import tkinter as tk\n",
    "from tkinter import *"
   ]
  },
  {
   "cell_type": "code",
   "execution_count": 2,
   "id": "20d8d478",
   "metadata": {},
   "outputs": [],
   "source": [
    "from geopy.geocoders import Nominatim "
   ]
  },
  {
   "cell_type": "code",
   "execution_count": 3,
   "id": "9753105e",
   "metadata": {},
   "outputs": [],
   "source": [
    "from tkinter import ttk,messagebox "
   ]
  },
  {
   "cell_type": "code",
   "execution_count": 4,
   "id": "cde37e34",
   "metadata": {},
   "outputs": [],
   "source": [
    "from timezonefinder import TimezoneFinder"
   ]
  },
  {
   "cell_type": "code",
   "execution_count": 5,
   "id": "58bab2ab",
   "metadata": {},
   "outputs": [],
   "source": [
    "from datetime import *"
   ]
  },
  {
   "cell_type": "code",
   "execution_count": 6,
   "id": "2258b953",
   "metadata": {},
   "outputs": [],
   "source": [
    "import requests"
   ]
  },
  {
   "cell_type": "code",
   "execution_count": 7,
   "id": "8b3e057d",
   "metadata": {},
   "outputs": [],
   "source": [
    "import pytz"
   ]
  },
  {
   "cell_type": "code",
   "execution_count": 8,
   "id": "d54edbf4",
   "metadata": {},
   "outputs": [],
   "source": [
    "from PIL import Image,ImageTk"
   ]
  },
  {
   "cell_type": "code",
   "execution_count": null,
   "id": "d6211379",
   "metadata": {},
   "outputs": [],
   "source": [
    "root=tk.Tk()\n",
    "root.title(\"WeatherApp\")\n",
    "root.geometry(\"890x470+300+200\")\n",
    "root.configure(bg=\"#57adff\")\n",
    "root.resizable(False,False)\n",
    "\n",
    "## Icons Import\n",
    "image_icon = PhotoImage(file=\"Images/logo.png\")\n",
    "root.iconphoto(False,image_icon)\n",
    "\n",
    "\n",
    "Round_box = PhotoImage(file=\"Images/Rounded Rectangle 1.png\")\n",
    "Label(root,image=Round_box,bg=\"#57adff\").place(x=30,y=110)\n",
    "\n",
    "#label\n",
    "label1=Label(root,text=\"Temprature\",font=('Helvetica',11),fg=\"white\",bg=\"#203243\")\n",
    "label1.place(x=50,y=120)\n",
    "\n",
    "label2=Label(root,text=\"Humidity\",font=('Helvetica',11),fg=\"white\",bg=\"#203243\")\n",
    "label2.place(x=50,y=140)\n",
    "\n",
    "label3=Label(root,text=\"Pressure\",font=('Helvetica',11),fg=\"white\",bg=\"#203243\")\n",
    "label3.place(x=50,y=160)\n",
    "\n",
    "label4=Label(root,text=\"Wind Speed\",font=('Helvetica',11),fg=\"white\",bg=\"#203243\")\n",
    "label4.place(x=50,y=180)\n",
    "\n",
    "label5=Label(root,text=\"Description\",font=('Helvetica',11),fg=\"white\",bg=\"#203243\")\n",
    "label5.place(x=50,y=200)\n",
    "\n",
    "##search Box\n",
    "Search_image=PhotoImage(file=\"Images/Rounded Rectangle 3.png\")\n",
    "myimage=Label(image=Search_image,bg=\"#57adff\")\n",
    "myimage.place(x=270,y=120)\n",
    "\n",
    "weat_image=PhotoImage(file=\"Images/Layer 7.png\")\n",
    "weatherimage=Label(root,iamge=weat_image,bg=\"#203243\")\n",
    "weat_image.place(x=290,y=127)\n",
    "\n",
    "\n",
    "\n",
    "\n",
    "root.mainloop()"
   ]
  },
  {
   "cell_type": "raw",
   "id": "c31ab6f0",
   "metadata": {},
   "source": []
  }
 ],
 "metadata": {
  "kernelspec": {
   "display_name": "Python 3 (ipykernel)",
   "language": "python",
   "name": "python3"
  },
  "language_info": {
   "codemirror_mode": {
    "name": "ipython",
    "version": 3
   },
   "file_extension": ".py",
   "mimetype": "text/x-python",
   "name": "python",
   "nbconvert_exporter": "python",
   "pygments_lexer": "ipython3",
   "version": "3.10.9"
  }
 },
 "nbformat": 4,
 "nbformat_minor": 5
}
